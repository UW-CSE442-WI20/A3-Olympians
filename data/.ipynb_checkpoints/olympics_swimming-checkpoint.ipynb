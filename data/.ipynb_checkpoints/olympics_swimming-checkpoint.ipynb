    "olympics = pd.read_csv('../../athlete_events.csv')"
